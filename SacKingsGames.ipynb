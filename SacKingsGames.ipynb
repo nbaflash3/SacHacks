{
 "cells": [
  {
   "cell_type": "code",
   "execution_count": 1,
   "metadata": {},
   "outputs": [],
   "source": [
    "import pandas as pd\n",
    "from pandas import DataFrame\n",
    "\n",
    "import numpy as np\n",
    "from datetime import datetime,date,time,timedelta\n",
    "import pandasql as ps\n",
    "from pandasql import sqldf\n",
    "\n",
    "from basketball_reference_web_scraper import client\n",
    "from basketball_reference_web_scraper.data import OutputType"
   ]
  },
  {
   "cell_type": "markdown",
   "metadata": {},
   "source": [
    "https://stats.nba.com/team/1610612758/boxscores/\n",
    "https://www.basketball-reference.com/teams/SAC/2020.html\n",
    "https://github.com/jaebradley/basketball_reference_web_scraper"
   ]
  },
  {
   "cell_type": "code",
   "execution_count": 3,
   "metadata": {},
   "outputs": [
    {
     "data": {
      "text/html": [
       "<div>\n",
       "<style scoped>\n",
       "    .dataframe tbody tr th:only-of-type {\n",
       "        vertical-align: middle;\n",
       "    }\n",
       "\n",
       "    .dataframe tbody tr th {\n",
       "        vertical-align: top;\n",
       "    }\n",
       "\n",
       "    .dataframe thead th {\n",
       "        text-align: right;\n",
       "    }\n",
       "</style>\n",
       "<table border=\"1\" class=\"dataframe\">\n",
       "  <thead>\n",
       "    <tr style=\"text-align: right;\">\n",
       "      <th></th>\n",
       "      <th>away_team</th>\n",
       "      <th>away_team_score</th>\n",
       "      <th>home_team</th>\n",
       "      <th>home_team_score</th>\n",
       "    </tr>\n",
       "  </thead>\n",
       "  <tbody>\n",
       "    <tr>\n",
       "      <th>0</th>\n",
       "      <td>Team.NEW_ORLEANS_PELICANS</td>\n",
       "      <td>122.0</td>\n",
       "      <td>Team.TORONTO_RAPTORS</td>\n",
       "      <td>130.0</td>\n",
       "    </tr>\n",
       "    <tr>\n",
       "      <th>1</th>\n",
       "      <td>Team.LOS_ANGELES_LAKERS</td>\n",
       "      <td>102.0</td>\n",
       "      <td>Team.LOS_ANGELES_CLIPPERS</td>\n",
       "      <td>112.0</td>\n",
       "    </tr>\n",
       "    <tr>\n",
       "      <th>2</th>\n",
       "      <td>Team.CHICAGO_BULLS</td>\n",
       "      <td>125.0</td>\n",
       "      <td>Team.CHARLOTTE_HORNETS</td>\n",
       "      <td>126.0</td>\n",
       "    </tr>\n",
       "    <tr>\n",
       "      <th>3</th>\n",
       "      <td>Team.DETROIT_PISTONS</td>\n",
       "      <td>119.0</td>\n",
       "      <td>Team.INDIANA_PACERS</td>\n",
       "      <td>110.0</td>\n",
       "    </tr>\n",
       "    <tr>\n",
       "      <th>4</th>\n",
       "      <td>Team.CLEVELAND_CAVALIERS</td>\n",
       "      <td>85.0</td>\n",
       "      <td>Team.ORLANDO_MAGIC</td>\n",
       "      <td>94.0</td>\n",
       "    </tr>\n",
       "  </tbody>\n",
       "</table>\n",
       "</div>"
      ],
      "text/plain": [
       "                   away_team  away_team_score                  home_team  \\\n",
       "0  Team.NEW_ORLEANS_PELICANS            122.0       Team.TORONTO_RAPTORS   \n",
       "1    Team.LOS_ANGELES_LAKERS            102.0  Team.LOS_ANGELES_CLIPPERS   \n",
       "2         Team.CHICAGO_BULLS            125.0     Team.CHARLOTTE_HORNETS   \n",
       "3       Team.DETROIT_PISTONS            119.0        Team.INDIANA_PACERS   \n",
       "4   Team.CLEVELAND_CAVALIERS             85.0         Team.ORLANDO_MAGIC   \n",
       "\n",
       "   home_team_score  \n",
       "0            130.0  \n",
       "1            112.0  \n",
       "2            126.0  \n",
       "3            110.0  \n",
       "4             94.0  "
      ]
     },
     "execution_count": 3,
     "metadata": {},
     "output_type": "execute_result"
    }
   ],
   "source": [
    "\n",
    "# Get all games for the 2019-2020 season\n",
    "games20 = pd.DataFrame(client.season_schedule(season_end_year=2020))\n",
    "games19 = pd.DataFrame(client.season_schedule(season_end_year=2019))\n",
    "games18 = pd.DataFrame(client.season_schedule(season_end_year=2018))\n",
    "games17 = pd.DataFrame(client.season_schedule(season_end_year=2017))\n",
    "games16 = pd.DataFrame(client.season_schedule(season_end_year=2016))\n",
    "\n",
    "games20.pop('start_time')\n",
    "games20 = games20.dropna()"
   ]
  },
  {
   "cell_type": "code",
   "execution_count": 19,
   "metadata": {},
   "outputs": [
    {
     "data": {
      "text/plain": [
       "(824, 4)"
      ]
     },
     "execution_count": 19,
     "metadata": {},
     "output_type": "execute_result"
    }
   ],
   "source": [
    "games20.shape"
   ]
  },
  {
   "cell_type": "code",
   "execution_count": 4,
   "metadata": {},
   "outputs": [],
   "source": [
    "games20['away_team'] = games20['away_team'].astype(str)\n",
    "games20['home_team'] = games20['home_team'].astype(str)\n"
   ]
  },
  {
   "cell_type": "code",
   "execution_count": 24,
   "metadata": {},
   "outputs": [
    {
     "data": {
      "text/plain": [
       "(12, 4)"
      ]
     },
     "execution_count": 24,
     "metadata": {},
     "output_type": "execute_result"
    }
   ],
   "source": [
    "pysqldf = lambda q: sqldf(q,globals())\n",
    "q1 = '''\n",
    "    WITH Temp AS (SELECT * FROM games20 WHERE away_team = 'Team.SACRAMENTO_KINGS' \n",
    "    OR home_team = 'Team.SACRAMENTO_KINGS')\n",
    "        SELECT * FROM Temp WHERE home_team_score > away_team_score;\n",
    "    '''\n",
    "\n",
    "q2 = '''\n",
    "       WITH Temp AS (SELECT * FROM games20 WHERE home_team = 'Team.SACRAMENTO_KINGS')\n",
    "        SELECT * FROM Temp WHERE home_team_score > away_team_score;\n",
    "     '''\n",
    "all_kings = pysqldf(q1)\n",
    "kings_wins = pysqldf(q2)\n",
    "kings_wins.shape"
   ]
  },
  {
   "cell_type": "code",
   "execution_count": null,
   "metadata": {},
   "outputs": [],
   "source": []
  },
  {
   "cell_type": "code",
   "execution_count": 25,
   "metadata": {},
   "outputs": [
    {
     "data": {
      "text/plain": [
       "(30, 4)"
      ]
     },
     "execution_count": 25,
     "metadata": {},
     "output_type": "execute_result"
    }
   ],
   "source": [
    "all_kings.shape"
   ]
  },
  {
   "cell_type": "code",
   "execution_count": null,
   "metadata": {},
   "outputs": [],
   "source": []
  }
 ],
 "metadata": {
  "kernelspec": {
   "display_name": "Python 3",
   "language": "python",
   "name": "python3"
  },
  "language_info": {
   "codemirror_mode": {
    "name": "ipython",
    "version": 3
   },
   "file_extension": ".py",
   "mimetype": "text/x-python",
   "name": "python",
   "nbconvert_exporter": "python",
   "pygments_lexer": "ipython3",
   "version": "3.6.9"
  }
 },
 "nbformat": 4,
 "nbformat_minor": 2
}
